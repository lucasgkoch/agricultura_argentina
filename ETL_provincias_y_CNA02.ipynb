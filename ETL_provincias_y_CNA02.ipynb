{
 "cells": [
  {
   "cell_type": "code",
   "execution_count": 1,
   "metadata": {},
   "outputs": [],
   "source": [
    "import pandas as pd"
   ]
  },
  {
   "cell_type": "markdown",
   "metadata": {},
   "source": [
    "Se cargan los archivos csv en dataframes y se realiza una vista previa de los datos, se eliminan las columnas que no se van a utilizar y se guarda el dataframe procesado como archivo CSV en la carpeta processed_data"
   ]
  },
  {
   "cell_type": "code",
   "execution_count": 3,
   "metadata": {},
   "outputs": [
    {
     "data": {
      "text/html": [
       "<div>\n",
       "<style scoped>\n",
       "    .dataframe tbody tr th:only-of-type {\n",
       "        vertical-align: middle;\n",
       "    }\n",
       "\n",
       "    .dataframe tbody tr th {\n",
       "        vertical-align: top;\n",
       "    }\n",
       "\n",
       "    .dataframe thead th {\n",
       "        text-align: right;\n",
       "    }\n",
       "</style>\n",
       "<table border=\"1\" class=\"dataframe\">\n",
       "  <thead>\n",
       "    <tr style=\"text-align: right;\">\n",
       "      <th></th>\n",
       "      <th>categoria</th>\n",
       "      <th>centroide_lat</th>\n",
       "      <th>centroide_lon</th>\n",
       "      <th>fuente</th>\n",
       "      <th>id</th>\n",
       "      <th>iso_id</th>\n",
       "      <th>iso_nombre</th>\n",
       "      <th>nombre</th>\n",
       "      <th>nombre_completo</th>\n",
       "    </tr>\n",
       "  </thead>\n",
       "  <tbody>\n",
       "    <tr>\n",
       "      <th>0</th>\n",
       "      <td>Ciudad Autónoma</td>\n",
       "      <td>-34.614442</td>\n",
       "      <td>-58.445876</td>\n",
       "      <td>IGN</td>\n",
       "      <td>2</td>\n",
       "      <td>AR-C</td>\n",
       "      <td>Ciudad Autónoma de Buenos Aires</td>\n",
       "      <td>Ciudad Autónoma de Buenos Aires</td>\n",
       "      <td>Ciudad Autónoma de Buenos Aires</td>\n",
       "    </tr>\n",
       "    <tr>\n",
       "      <th>1</th>\n",
       "      <td>Provincia</td>\n",
       "      <td>-38.641983</td>\n",
       "      <td>-70.119897</td>\n",
       "      <td>IGN</td>\n",
       "      <td>58</td>\n",
       "      <td>AR-Q</td>\n",
       "      <td>Neuquén</td>\n",
       "      <td>Neuquén</td>\n",
       "      <td>Provincia del Neuquén</td>\n",
       "    </tr>\n",
       "    <tr>\n",
       "      <th>2</th>\n",
       "      <td>Provincia</td>\n",
       "      <td>-33.761104</td>\n",
       "      <td>-66.025231</td>\n",
       "      <td>IGN</td>\n",
       "      <td>74</td>\n",
       "      <td>AR-D</td>\n",
       "      <td>San Luis</td>\n",
       "      <td>San Luis</td>\n",
       "      <td>Provincia de San Luis</td>\n",
       "    </tr>\n",
       "    <tr>\n",
       "      <th>3</th>\n",
       "      <td>Provincia</td>\n",
       "      <td>-30.708823</td>\n",
       "      <td>-60.950687</td>\n",
       "      <td>IGN</td>\n",
       "      <td>82</td>\n",
       "      <td>AR-S</td>\n",
       "      <td>Santa Fe</td>\n",
       "      <td>Santa Fe</td>\n",
       "      <td>Provincia de Santa Fe</td>\n",
       "    </tr>\n",
       "    <tr>\n",
       "      <th>4</th>\n",
       "      <td>Provincia</td>\n",
       "      <td>-29.684937</td>\n",
       "      <td>-67.181758</td>\n",
       "      <td>IGN</td>\n",
       "      <td>46</td>\n",
       "      <td>AR-F</td>\n",
       "      <td>La Rioja</td>\n",
       "      <td>La Rioja</td>\n",
       "      <td>Provincia de La Rioja</td>\n",
       "    </tr>\n",
       "  </tbody>\n",
       "</table>\n",
       "</div>"
      ],
      "text/plain": [
       "         categoria  centroide_lat  centroide_lon fuente  id iso_id  \\\n",
       "0  Ciudad Autónoma     -34.614442     -58.445876    IGN   2   AR-C   \n",
       "1        Provincia     -38.641983     -70.119897    IGN  58   AR-Q   \n",
       "2        Provincia     -33.761104     -66.025231    IGN  74   AR-D   \n",
       "3        Provincia     -30.708823     -60.950687    IGN  82   AR-S   \n",
       "4        Provincia     -29.684937     -67.181758    IGN  46   AR-F   \n",
       "\n",
       "                        iso_nombre                           nombre  \\\n",
       "0  Ciudad Autónoma de Buenos Aires  Ciudad Autónoma de Buenos Aires   \n",
       "1                          Neuquén                          Neuquén   \n",
       "2                         San Luis                         San Luis   \n",
       "3                         Santa Fe                         Santa Fe   \n",
       "4                         La Rioja                         La Rioja   \n",
       "\n",
       "                   nombre_completo  \n",
       "0  Ciudad Autónoma de Buenos Aires  \n",
       "1            Provincia del Neuquén  \n",
       "2            Provincia de San Luis  \n",
       "3            Provincia de Santa Fe  \n",
       "4            Provincia de La Rioja  "
      ]
     },
     "execution_count": 3,
     "metadata": {},
     "output_type": "execute_result"
    }
   ],
   "source": [
    "df_provincias=pd.read_csv(\"raw_data\\provincias.csv\")\n",
    "df_provincias.head()"
   ]
  },
  {
   "cell_type": "code",
   "execution_count": null,
   "metadata": {},
   "outputs": [],
   "source": [
    "df_provincias.drop(columns=['categoria','centroide_lat','centroide_lon','fuente','iso_id'])"
   ]
  },
  {
   "cell_type": "code",
   "execution_count": 9,
   "metadata": {},
   "outputs": [],
   "source": [
    "df_provincias=df_provincias[['id','nombre']]"
   ]
  },
  {
   "cell_type": "code",
   "execution_count": 11,
   "metadata": {},
   "outputs": [],
   "source": [
    "df_provincias.to_csv(\"processed_data\\provincias.csv\",index=False)"
   ]
  },
  {
   "cell_type": "code",
   "execution_count": 17,
   "metadata": {},
   "outputs": [
    {
     "data": {
      "text/html": [
       "<div>\n",
       "<style scoped>\n",
       "    .dataframe tbody tr th:only-of-type {\n",
       "        vertical-align: middle;\n",
       "    }\n",
       "\n",
       "    .dataframe tbody tr th {\n",
       "        vertical-align: top;\n",
       "    }\n",
       "\n",
       "    .dataframe thead th {\n",
       "        text-align: right;\n",
       "    }\n",
       "</style>\n",
       "<table border=\"1\" class=\"dataframe\">\n",
       "  <thead>\n",
       "    <tr style=\"text-align: right;\">\n",
       "      <th></th>\n",
       "      <th>anio</th>\n",
       "      <th>provincia</th>\n",
       "      <th>provincia_id</th>\n",
       "      <th>EAP_con_limites</th>\n",
       "      <th>hectareas</th>\n",
       "    </tr>\n",
       "  </thead>\n",
       "  <tbody>\n",
       "    <tr>\n",
       "      <th>0</th>\n",
       "      <td>2002</td>\n",
       "      <td>Buenos Aires</td>\n",
       "      <td>6</td>\n",
       "      <td>51107</td>\n",
       "      <td>25788669.5</td>\n",
       "    </tr>\n",
       "    <tr>\n",
       "      <th>1</th>\n",
       "      <td>2002</td>\n",
       "      <td>Catamarca</td>\n",
       "      <td>10</td>\n",
       "      <td>6694</td>\n",
       "      <td>1588805.7</td>\n",
       "    </tr>\n",
       "    <tr>\n",
       "      <th>2</th>\n",
       "      <td>2002</td>\n",
       "      <td>Córdoba</td>\n",
       "      <td>14</td>\n",
       "      <td>25620</td>\n",
       "      <td>12244257.8</td>\n",
       "    </tr>\n",
       "    <tr>\n",
       "      <th>3</th>\n",
       "      <td>2002</td>\n",
       "      <td>Corrientes</td>\n",
       "      <td>18</td>\n",
       "      <td>14673</td>\n",
       "      <td>6860573.0</td>\n",
       "    </tr>\n",
       "    <tr>\n",
       "      <th>4</th>\n",
       "      <td>2002</td>\n",
       "      <td>Chaco</td>\n",
       "      <td>22</td>\n",
       "      <td>15694</td>\n",
       "      <td>5899731.8</td>\n",
       "    </tr>\n",
       "  </tbody>\n",
       "</table>\n",
       "</div>"
      ],
      "text/plain": [
       "   anio     provincia  provincia_id  EAP_con_limites   hectareas\n",
       "0  2002  Buenos Aires             6            51107  25788669.5\n",
       "1  2002     Catamarca            10             6694   1588805.7\n",
       "2  2002       Córdoba            14            25620  12244257.8\n",
       "3  2002    Corrientes            18            14673   6860573.0\n",
       "4  2002         Chaco            22            15694   5899731.8"
      ]
     },
     "execution_count": 17,
     "metadata": {},
     "output_type": "execute_result"
    }
   ],
   "source": [
    "df_explotaciones=pd.read_csv(\"raw_data\\explotaciones_ap_por_provincia_cna02.csv\", encoding=\"Latin-1\")\n",
    "df_explotaciones.head()"
   ]
  },
  {
   "cell_type": "code",
   "execution_count": 18,
   "metadata": {},
   "outputs": [],
   "source": [
    "df_explotaciones.drop(columns=['anio','provincia'],inplace=True)"
   ]
  },
  {
   "cell_type": "code",
   "execution_count": 19,
   "metadata": {},
   "outputs": [],
   "source": [
    "df_explotaciones.to_csv(\"processed_data\\explotaciones_ap_por_provincia.csv\", index=False)"
   ]
  },
  {
   "cell_type": "code",
   "execution_count": 7,
   "metadata": {},
   "outputs": [
    {
     "data": {
      "text/html": [
       "<div>\n",
       "<style scoped>\n",
       "    .dataframe tbody tr th:only-of-type {\n",
       "        vertical-align: middle;\n",
       "    }\n",
       "\n",
       "    .dataframe tbody tr th {\n",
       "        vertical-align: top;\n",
       "    }\n",
       "\n",
       "    .dataframe thead th {\n",
       "        text-align: right;\n",
       "    }\n",
       "</style>\n",
       "<table border=\"1\" class=\"dataframe\">\n",
       "  <thead>\n",
       "    <tr style=\"text-align: right;\">\n",
       "      <th></th>\n",
       "      <th>anio</th>\n",
       "      <th>provincia</th>\n",
       "      <th>provincia_id</th>\n",
       "      <th>productor</th>\n",
       "      <th>familiar</th>\n",
       "      <th>trabajador</th>\n",
       "      <th>residente</th>\n",
       "      <th>sin_discriminar</th>\n",
       "    </tr>\n",
       "  </thead>\n",
       "  <tbody>\n",
       "    <tr>\n",
       "      <th>0</th>\n",
       "      <td>2002</td>\n",
       "      <td>Buenos Aires</td>\n",
       "      <td>6</td>\n",
       "      <td>22765</td>\n",
       "      <td>38360</td>\n",
       "      <td>41639</td>\n",
       "      <td>48208</td>\n",
       "      <td>165.0</td>\n",
       "    </tr>\n",
       "    <tr>\n",
       "      <th>1</th>\n",
       "      <td>2002</td>\n",
       "      <td>Catamarca</td>\n",
       "      <td>10</td>\n",
       "      <td>6234</td>\n",
       "      <td>19923</td>\n",
       "      <td>1253</td>\n",
       "      <td>931</td>\n",
       "      <td>NaN</td>\n",
       "    </tr>\n",
       "    <tr>\n",
       "      <th>2</th>\n",
       "      <td>2002</td>\n",
       "      <td>Córdoba</td>\n",
       "      <td>14</td>\n",
       "      <td>15024</td>\n",
       "      <td>35781</td>\n",
       "      <td>18151</td>\n",
       "      <td>27089</td>\n",
       "      <td>17.0</td>\n",
       "    </tr>\n",
       "    <tr>\n",
       "      <th>3</th>\n",
       "      <td>2002</td>\n",
       "      <td>Corrientes</td>\n",
       "      <td>18</td>\n",
       "      <td>10504</td>\n",
       "      <td>35129</td>\n",
       "      <td>8890</td>\n",
       "      <td>10972</td>\n",
       "      <td>108.0</td>\n",
       "    </tr>\n",
       "    <tr>\n",
       "      <th>4</th>\n",
       "      <td>2002</td>\n",
       "      <td>Chaco</td>\n",
       "      <td>22</td>\n",
       "      <td>13683</td>\n",
       "      <td>47198</td>\n",
       "      <td>4485</td>\n",
       "      <td>10608</td>\n",
       "      <td>NaN</td>\n",
       "    </tr>\n",
       "  </tbody>\n",
       "</table>\n",
       "</div>"
      ],
      "text/plain": [
       "   anio     provincia  provincia_id  productor  familiar  trabajador  \\\n",
       "0  2002  Buenos Aires             6      22765     38360       41639   \n",
       "1  2002     Catamarca            10       6234     19923        1253   \n",
       "2  2002       Córdoba            14      15024     35781       18151   \n",
       "3  2002    Corrientes            18      10504     35129        8890   \n",
       "4  2002         Chaco            22      13683     47198        4485   \n",
       "\n",
       "   residente  sin_discriminar  \n",
       "0      48208            165.0  \n",
       "1        931              NaN  \n",
       "2      27089             17.0  \n",
       "3      10972            108.0  \n",
       "4      10608              NaN  "
      ]
     },
     "execution_count": 7,
     "metadata": {},
     "output_type": "execute_result"
    }
   ],
   "source": [
    "df_mano_de_obra=pd.read_csv(\"raw_data\\mano_de_obra_ap_por_provincia_cna02.csv\", encoding=\"Latin-1\")\n",
    "df_mano_de_obra.head()"
   ]
  },
  {
   "cell_type": "code",
   "execution_count": 20,
   "metadata": {},
   "outputs": [],
   "source": [
    "df_mano_de_obra.drop(columns=['anio','provincia'],inplace=True)"
   ]
  },
  {
   "cell_type": "code",
   "execution_count": 21,
   "metadata": {},
   "outputs": [],
   "source": [
    "df_mano_de_obra.to_csv(\"processed_data\\mano_de_obra_ap_por_provincia.csv\", index=False)"
   ]
  }
 ],
 "metadata": {
  "kernelspec": {
   "display_name": "Python 3",
   "language": "python",
   "name": "python3"
  },
  "language_info": {
   "codemirror_mode": {
    "name": "ipython",
    "version": 3
   },
   "file_extension": ".py",
   "mimetype": "text/x-python",
   "name": "python",
   "nbconvert_exporter": "python",
   "pygments_lexer": "ipython3",
   "version": "3.11.9"
  }
 },
 "nbformat": 4,
 "nbformat_minor": 2
}
