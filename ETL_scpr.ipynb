{
 "cells": [
  {
   "cell_type": "code",
   "execution_count": 1,
   "metadata": {},
   "outputs": [],
   "source": [
    "import pandas as pd"
   ]
  },
  {
   "cell_type": "markdown",
   "metadata": {},
   "source": [
    "Se cargan los archivos csv en dataframes y se realiza una vista previa de los datos"
   ]
  },
  {
   "cell_type": "code",
   "execution_count": 44,
   "metadata": {},
   "outputs": [
    {
     "data": {
      "text/html": [
       "<div>\n",
       "<style scoped>\n",
       "    .dataframe tbody tr th:only-of-type {\n",
       "        vertical-align: middle;\n",
       "    }\n",
       "\n",
       "    .dataframe tbody tr th {\n",
       "        vertical-align: top;\n",
       "    }\n",
       "\n",
       "    .dataframe thead th {\n",
       "        text-align: right;\n",
       "    }\n",
       "</style>\n",
       "<table border=\"1\" class=\"dataframe\">\n",
       "  <thead>\n",
       "    <tr style=\"text-align: right;\">\n",
       "      <th></th>\n",
       "      <th>cultivo_nombre</th>\n",
       "      <th>anio</th>\n",
       "      <th>campania</th>\n",
       "      <th>provincia_nombre</th>\n",
       "      <th>provincia_id</th>\n",
       "      <th>departamento_nombre</th>\n",
       "      <th>departamento_id</th>\n",
       "      <th>superficie_sembrada_ha</th>\n",
       "      <th>superficie_cosechada_ha</th>\n",
       "      <th>produccion_tm</th>\n",
       "      <th>rendimiento_kgxha</th>\n",
       "    </tr>\n",
       "  </thead>\n",
       "  <tbody>\n",
       "    <tr>\n",
       "      <th>0</th>\n",
       "      <td>avena</td>\n",
       "      <td>1923</td>\n",
       "      <td>1923/1924</td>\n",
       "      <td>Buenos Aires</td>\n",
       "      <td>6</td>\n",
       "      <td>Adolfo Alsina</td>\n",
       "      <td>6007.0</td>\n",
       "      <td>8000</td>\n",
       "      <td>6700.0</td>\n",
       "      <td>6700.0</td>\n",
       "      <td>1000.0</td>\n",
       "    </tr>\n",
       "    <tr>\n",
       "      <th>1</th>\n",
       "      <td>avena</td>\n",
       "      <td>1923</td>\n",
       "      <td>1923/1924</td>\n",
       "      <td>Buenos Aires</td>\n",
       "      <td>6</td>\n",
       "      <td>Adolfo Gonzales Chaves</td>\n",
       "      <td>6014.0</td>\n",
       "      <td>84000</td>\n",
       "      <td>78000.0</td>\n",
       "      <td>124800.0</td>\n",
       "      <td>1600.0</td>\n",
       "    </tr>\n",
       "    <tr>\n",
       "      <th>2</th>\n",
       "      <td>avena</td>\n",
       "      <td>1923</td>\n",
       "      <td>1923/1924</td>\n",
       "      <td>Buenos Aires</td>\n",
       "      <td>6</td>\n",
       "      <td>Alberti</td>\n",
       "      <td>6021.0</td>\n",
       "      <td>4700</td>\n",
       "      <td>4200.0</td>\n",
       "      <td>4494.0</td>\n",
       "      <td>1070.0</td>\n",
       "    </tr>\n",
       "    <tr>\n",
       "      <th>3</th>\n",
       "      <td>avena</td>\n",
       "      <td>1923</td>\n",
       "      <td>1923/1924</td>\n",
       "      <td>Buenos Aires</td>\n",
       "      <td>6</td>\n",
       "      <td>Ayacucho</td>\n",
       "      <td>6042.0</td>\n",
       "      <td>1780</td>\n",
       "      <td>1553.0</td>\n",
       "      <td>1508.0</td>\n",
       "      <td>971.0</td>\n",
       "    </tr>\n",
       "    <tr>\n",
       "      <th>4</th>\n",
       "      <td>avena</td>\n",
       "      <td>1923</td>\n",
       "      <td>1923/1924</td>\n",
       "      <td>Buenos Aires</td>\n",
       "      <td>6</td>\n",
       "      <td>Azul</td>\n",
       "      <td>6049.0</td>\n",
       "      <td>10000</td>\n",
       "      <td>8500.0</td>\n",
       "      <td>11390.0</td>\n",
       "      <td>1340.0</td>\n",
       "    </tr>\n",
       "  </tbody>\n",
       "</table>\n",
       "</div>"
      ],
      "text/plain": [
       "  cultivo_nombre  anio   campania provincia_nombre  provincia_id  \\\n",
       "0          avena  1923  1923/1924     Buenos Aires             6   \n",
       "1          avena  1923  1923/1924     Buenos Aires             6   \n",
       "2          avena  1923  1923/1924     Buenos Aires             6   \n",
       "3          avena  1923  1923/1924     Buenos Aires             6   \n",
       "4          avena  1923  1923/1924     Buenos Aires             6   \n",
       "\n",
       "      departamento_nombre  departamento_id  superficie_sembrada_ha  \\\n",
       "0           Adolfo Alsina           6007.0                    8000   \n",
       "1  Adolfo Gonzales Chaves           6014.0                   84000   \n",
       "2                 Alberti           6021.0                    4700   \n",
       "3                Ayacucho           6042.0                    1780   \n",
       "4                    Azul           6049.0                   10000   \n",
       "\n",
       "   superficie_cosechada_ha  produccion_tm  rendimiento_kgxha  \n",
       "0                   6700.0         6700.0             1000.0  \n",
       "1                  78000.0       124800.0             1600.0  \n",
       "2                   4200.0         4494.0             1070.0  \n",
       "3                   1553.0         1508.0              971.0  \n",
       "4                   8500.0        11390.0             1340.0  "
      ]
     },
     "execution_count": 44,
     "metadata": {},
     "output_type": "execute_result"
    }
   ],
   "source": [
    "df_avena = pd.read_csv(\"raw_data\\scpr\\\\avena_scpr.csv\", encoding= \"Latin-1\")\n",
    "df_avena.head()"
   ]
  },
  {
   "cell_type": "code",
   "execution_count": 45,
   "metadata": {},
   "outputs": [
    {
     "data": {
      "text/html": [
       "<div>\n",
       "<style scoped>\n",
       "    .dataframe tbody tr th:only-of-type {\n",
       "        vertical-align: middle;\n",
       "    }\n",
       "\n",
       "    .dataframe tbody tr th {\n",
       "        vertical-align: top;\n",
       "    }\n",
       "\n",
       "    .dataframe thead th {\n",
       "        text-align: right;\n",
       "    }\n",
       "</style>\n",
       "<table border=\"1\" class=\"dataframe\">\n",
       "  <thead>\n",
       "    <tr style=\"text-align: right;\">\n",
       "      <th></th>\n",
       "      <th>cultivo_nombre</th>\n",
       "      <th>anio</th>\n",
       "      <th>campania</th>\n",
       "      <th>provincia_nombre</th>\n",
       "      <th>provincia_id</th>\n",
       "      <th>departamento_nombre</th>\n",
       "      <th>departamnto_id</th>\n",
       "      <th>superficie_sembrada_ha</th>\n",
       "      <th>superficie_cosechada_ha</th>\n",
       "      <th>produccion_tn</th>\n",
       "      <th>rendimiento_kgxha</th>\n",
       "    </tr>\n",
       "  </thead>\n",
       "  <tbody>\n",
       "    <tr>\n",
       "      <th>0</th>\n",
       "      <td>centeno</td>\n",
       "      <td>1923</td>\n",
       "      <td>1923/1924</td>\n",
       "      <td>Buenos Aires</td>\n",
       "      <td>6</td>\n",
       "      <td>Adolfo Alsina</td>\n",
       "      <td>6007.0</td>\n",
       "      <td>9600</td>\n",
       "      <td>9400.0</td>\n",
       "      <td>6204.0</td>\n",
       "      <td>600.0</td>\n",
       "    </tr>\n",
       "    <tr>\n",
       "      <th>1</th>\n",
       "      <td>centeno</td>\n",
       "      <td>1923</td>\n",
       "      <td>1923/1924</td>\n",
       "      <td>Buenos Aires</td>\n",
       "      <td>6</td>\n",
       "      <td>Adolfo Gonzales Chaves</td>\n",
       "      <td>6014.0</td>\n",
       "      <td>200</td>\n",
       "      <td>182.0</td>\n",
       "      <td>167.0</td>\n",
       "      <td>920.0</td>\n",
       "    </tr>\n",
       "    <tr>\n",
       "      <th>2</th>\n",
       "      <td>centeno</td>\n",
       "      <td>1923</td>\n",
       "      <td>1923/1924</td>\n",
       "      <td>Buenos Aires</td>\n",
       "      <td>6</td>\n",
       "      <td>Azul</td>\n",
       "      <td>6049.0</td>\n",
       "      <td>100</td>\n",
       "      <td>80.0</td>\n",
       "      <td>77.0</td>\n",
       "      <td>960.0</td>\n",
       "    </tr>\n",
       "    <tr>\n",
       "      <th>3</th>\n",
       "      <td>centeno</td>\n",
       "      <td>1923</td>\n",
       "      <td>1923/1924</td>\n",
       "      <td>Buenos Aires</td>\n",
       "      <td>6</td>\n",
       "      <td>Bahía Blanca</td>\n",
       "      <td>6056.0</td>\n",
       "      <td>200</td>\n",
       "      <td>190.0</td>\n",
       "      <td>148.0</td>\n",
       "      <td>780.0</td>\n",
       "    </tr>\n",
       "    <tr>\n",
       "      <th>4</th>\n",
       "      <td>centeno</td>\n",
       "      <td>1923</td>\n",
       "      <td>1923/1924</td>\n",
       "      <td>Buenos Aires</td>\n",
       "      <td>6</td>\n",
       "      <td>Baradero</td>\n",
       "      <td>6070.0</td>\n",
       "      <td>5</td>\n",
       "      <td>5.0</td>\n",
       "      <td>4.0</td>\n",
       "      <td>820.0</td>\n",
       "    </tr>\n",
       "  </tbody>\n",
       "</table>\n",
       "</div>"
      ],
      "text/plain": [
       "  cultivo_nombre  anio   campania provincia_nombre  provincia_id  \\\n",
       "0        centeno  1923  1923/1924     Buenos Aires             6   \n",
       "1        centeno  1923  1923/1924     Buenos Aires             6   \n",
       "2        centeno  1923  1923/1924     Buenos Aires             6   \n",
       "3        centeno  1923  1923/1924     Buenos Aires             6   \n",
       "4        centeno  1923  1923/1924     Buenos Aires             6   \n",
       "\n",
       "      departamento_nombre  departamnto_id  superficie_sembrada_ha  \\\n",
       "0           Adolfo Alsina          6007.0                    9600   \n",
       "1  Adolfo Gonzales Chaves          6014.0                     200   \n",
       "2                    Azul          6049.0                     100   \n",
       "3            Bahía Blanca          6056.0                     200   \n",
       "4                Baradero          6070.0                       5   \n",
       "\n",
       "   superficie_cosechada_ha  produccion_tn  rendimiento_kgxha  \n",
       "0                   9400.0         6204.0              600.0  \n",
       "1                    182.0          167.0              920.0  \n",
       "2                     80.0           77.0              960.0  \n",
       "3                    190.0          148.0              780.0  \n",
       "4                      5.0            4.0              820.0  "
      ]
     },
     "execution_count": 45,
     "metadata": {},
     "output_type": "execute_result"
    }
   ],
   "source": [
    "df_centeno = pd.read_csv(\"raw_data\\scpr\\centeno_scpr.csv\", encoding= \"Latin-1\")\n",
    "df_centeno.head()"
   ]
  },
  {
   "cell_type": "code",
   "execution_count": 13,
   "metadata": {},
   "outputs": [],
   "source": [
    "#Se detecta un error de tipeo en el campo 'departamnto_id'. Se corrige\n",
    "df_centeno.rename(columns={'departamnto_id' : 'departamento_id'}, inplace=True)"
   ]
  },
  {
   "cell_type": "code",
   "execution_count": 46,
   "metadata": {},
   "outputs": [
    {
     "data": {
      "text/html": [
       "<div>\n",
       "<style scoped>\n",
       "    .dataframe tbody tr th:only-of-type {\n",
       "        vertical-align: middle;\n",
       "    }\n",
       "\n",
       "    .dataframe tbody tr th {\n",
       "        vertical-align: top;\n",
       "    }\n",
       "\n",
       "    .dataframe thead th {\n",
       "        text-align: right;\n",
       "    }\n",
       "</style>\n",
       "<table border=\"1\" class=\"dataframe\">\n",
       "  <thead>\n",
       "    <tr style=\"text-align: right;\">\n",
       "      <th></th>\n",
       "      <th>cultivo_nombre</th>\n",
       "      <th>anio</th>\n",
       "      <th>campania</th>\n",
       "      <th>provincia_nombre</th>\n",
       "      <th>provincia_id</th>\n",
       "      <th>departamento_nombre</th>\n",
       "      <th>departamento_id</th>\n",
       "      <th>superficie_sembrada_ha</th>\n",
       "      <th>superficie_cosechada_ha</th>\n",
       "      <th>produccion_tm</th>\n",
       "      <th>rendimiento_kgxha</th>\n",
       "    </tr>\n",
       "  </thead>\n",
       "  <tbody>\n",
       "    <tr>\n",
       "      <th>0</th>\n",
       "      <td>girasol</td>\n",
       "      <td>1969</td>\n",
       "      <td>1969/70</td>\n",
       "      <td>Buenos Aires</td>\n",
       "      <td>6</td>\n",
       "      <td>Adolfo Alsina</td>\n",
       "      <td>6007.0</td>\n",
       "      <td>10000</td>\n",
       "      <td>10000</td>\n",
       "      <td>9000</td>\n",
       "      <td>900</td>\n",
       "    </tr>\n",
       "    <tr>\n",
       "      <th>1</th>\n",
       "      <td>girasol</td>\n",
       "      <td>1969</td>\n",
       "      <td>1969/70</td>\n",
       "      <td>Buenos Aires</td>\n",
       "      <td>6</td>\n",
       "      <td>Adolfo Gonzales Chaves</td>\n",
       "      <td>6014.0</td>\n",
       "      <td>1500</td>\n",
       "      <td>1350</td>\n",
       "      <td>1147</td>\n",
       "      <td>850</td>\n",
       "    </tr>\n",
       "    <tr>\n",
       "      <th>2</th>\n",
       "      <td>girasol</td>\n",
       "      <td>1969</td>\n",
       "      <td>1969/70</td>\n",
       "      <td>Buenos Aires</td>\n",
       "      <td>6</td>\n",
       "      <td>Alberti</td>\n",
       "      <td>6021.0</td>\n",
       "      <td>14000</td>\n",
       "      <td>14000</td>\n",
       "      <td>12600</td>\n",
       "      <td>900</td>\n",
       "    </tr>\n",
       "    <tr>\n",
       "      <th>3</th>\n",
       "      <td>girasol</td>\n",
       "      <td>1969</td>\n",
       "      <td>1969/70</td>\n",
       "      <td>Buenos Aires</td>\n",
       "      <td>6</td>\n",
       "      <td>Ayacucho</td>\n",
       "      <td>6042.0</td>\n",
       "      <td>14000</td>\n",
       "      <td>13300</td>\n",
       "      <td>8645</td>\n",
       "      <td>650</td>\n",
       "    </tr>\n",
       "    <tr>\n",
       "      <th>4</th>\n",
       "      <td>girasol</td>\n",
       "      <td>1969</td>\n",
       "      <td>1969/70</td>\n",
       "      <td>Buenos Aires</td>\n",
       "      <td>6</td>\n",
       "      <td>Azul</td>\n",
       "      <td>6049.0</td>\n",
       "      <td>11000</td>\n",
       "      <td>9900</td>\n",
       "      <td>7425</td>\n",
       "      <td>750</td>\n",
       "    </tr>\n",
       "  </tbody>\n",
       "</table>\n",
       "</div>"
      ],
      "text/plain": [
       "  cultivo_nombre  anio campania provincia_nombre  provincia_id  \\\n",
       "0        girasol  1969  1969/70     Buenos Aires             6   \n",
       "1        girasol  1969  1969/70     Buenos Aires             6   \n",
       "2        girasol  1969  1969/70     Buenos Aires             6   \n",
       "3        girasol  1969  1969/70     Buenos Aires             6   \n",
       "4        girasol  1969  1969/70     Buenos Aires             6   \n",
       "\n",
       "      departamento_nombre  departamento_id  superficie_sembrada_ha  \\\n",
       "0           Adolfo Alsina           6007.0                   10000   \n",
       "1  Adolfo Gonzales Chaves           6014.0                    1500   \n",
       "2                 Alberti           6021.0                   14000   \n",
       "3                Ayacucho           6042.0                   14000   \n",
       "4                    Azul           6049.0                   11000   \n",
       "\n",
       "   superficie_cosechada_ha  produccion_tm  rendimiento_kgxha  \n",
       "0                    10000           9000                900  \n",
       "1                     1350           1147                850  \n",
       "2                    14000          12600                900  \n",
       "3                    13300           8645                650  \n",
       "4                     9900           7425                750  "
      ]
     },
     "execution_count": 46,
     "metadata": {},
     "output_type": "execute_result"
    }
   ],
   "source": [
    "df_girasol = pd.read_csv(\"raw_data\\scpr\\girasol_scpr.csv\", encoding= \"Latin-1\")\n",
    "df_girasol.head()"
   ]
  },
  {
   "cell_type": "code",
   "execution_count": 47,
   "metadata": {},
   "outputs": [
    {
     "data": {
      "text/html": [
       "<div>\n",
       "<style scoped>\n",
       "    .dataframe tbody tr th:only-of-type {\n",
       "        vertical-align: middle;\n",
       "    }\n",
       "\n",
       "    .dataframe tbody tr th {\n",
       "        vertical-align: top;\n",
       "    }\n",
       "\n",
       "    .dataframe thead th {\n",
       "        text-align: right;\n",
       "    }\n",
       "</style>\n",
       "<table border=\"1\" class=\"dataframe\">\n",
       "  <thead>\n",
       "    <tr style=\"text-align: right;\">\n",
       "      <th></th>\n",
       "      <th>cultivo_nombre</th>\n",
       "      <th>anio</th>\n",
       "      <th>campania</th>\n",
       "      <th>provincia_nombre</th>\n",
       "      <th>provincia_id</th>\n",
       "      <th>departamento_nombre</th>\n",
       "      <th>departamento_id</th>\n",
       "      <th>superficie_sembrada_ha</th>\n",
       "      <th>superficie_cosechada_ha</th>\n",
       "      <th>produccion_tm</th>\n",
       "      <th>rendimiento_kgxha</th>\n",
       "    </tr>\n",
       "  </thead>\n",
       "  <tbody>\n",
       "    <tr>\n",
       "      <th>0</th>\n",
       "      <td>maíz</td>\n",
       "      <td>1923</td>\n",
       "      <td>1923/1924</td>\n",
       "      <td>Buenos Aires</td>\n",
       "      <td>6</td>\n",
       "      <td>25 de Mayo</td>\n",
       "      <td>6854.0</td>\n",
       "      <td>40000</td>\n",
       "      <td>NaN</td>\n",
       "      <td>120000.0</td>\n",
       "      <td>3000.0</td>\n",
       "    </tr>\n",
       "    <tr>\n",
       "      <th>1</th>\n",
       "      <td>maíz</td>\n",
       "      <td>1923</td>\n",
       "      <td>1923/1924</td>\n",
       "      <td>Buenos Aires</td>\n",
       "      <td>6</td>\n",
       "      <td>9 de Julio</td>\n",
       "      <td>6588.0</td>\n",
       "      <td>47000</td>\n",
       "      <td>NaN</td>\n",
       "      <td>134300.0</td>\n",
       "      <td>2857.0</td>\n",
       "    </tr>\n",
       "    <tr>\n",
       "      <th>2</th>\n",
       "      <td>maíz</td>\n",
       "      <td>1923</td>\n",
       "      <td>1923/1924</td>\n",
       "      <td>Buenos Aires</td>\n",
       "      <td>6</td>\n",
       "      <td>Adolfo Alsina</td>\n",
       "      <td>6007.0</td>\n",
       "      <td>22000</td>\n",
       "      <td>NaN</td>\n",
       "      <td>19000.0</td>\n",
       "      <td>864.0</td>\n",
       "    </tr>\n",
       "    <tr>\n",
       "      <th>3</th>\n",
       "      <td>maíz</td>\n",
       "      <td>1923</td>\n",
       "      <td>1923/1924</td>\n",
       "      <td>Buenos Aires</td>\n",
       "      <td>6</td>\n",
       "      <td>Adolfo Gonzales Chaves</td>\n",
       "      <td>6014.0</td>\n",
       "      <td>2100</td>\n",
       "      <td>NaN</td>\n",
       "      <td>1680.0</td>\n",
       "      <td>800.0</td>\n",
       "    </tr>\n",
       "    <tr>\n",
       "      <th>4</th>\n",
       "      <td>maíz</td>\n",
       "      <td>1923</td>\n",
       "      <td>1923/1924</td>\n",
       "      <td>Buenos Aires</td>\n",
       "      <td>6</td>\n",
       "      <td>Alberti</td>\n",
       "      <td>6021.0</td>\n",
       "      <td>23000</td>\n",
       "      <td>NaN</td>\n",
       "      <td>66200.0</td>\n",
       "      <td>2878.0</td>\n",
       "    </tr>\n",
       "  </tbody>\n",
       "</table>\n",
       "</div>"
      ],
      "text/plain": [
       "  cultivo_nombre  anio   campania provincia_nombre  provincia_id  \\\n",
       "0           maíz  1923  1923/1924     Buenos Aires             6   \n",
       "1           maíz  1923  1923/1924     Buenos Aires             6   \n",
       "2           maíz  1923  1923/1924     Buenos Aires             6   \n",
       "3           maíz  1923  1923/1924     Buenos Aires             6   \n",
       "4           maíz  1923  1923/1924     Buenos Aires             6   \n",
       "\n",
       "      departamento_nombre  departamento_id  superficie_sembrada_ha  \\\n",
       "0              25 de Mayo           6854.0                   40000   \n",
       "1              9 de Julio           6588.0                   47000   \n",
       "2           Adolfo Alsina           6007.0                   22000   \n",
       "3  Adolfo Gonzales Chaves           6014.0                    2100   \n",
       "4                 Alberti           6021.0                   23000   \n",
       "\n",
       "   superficie_cosechada_ha  produccion_tm  rendimiento_kgxha  \n",
       "0                      NaN       120000.0             3000.0  \n",
       "1                      NaN       134300.0             2857.0  \n",
       "2                      NaN        19000.0              864.0  \n",
       "3                      NaN         1680.0              800.0  \n",
       "4                      NaN        66200.0             2878.0  "
      ]
     },
     "execution_count": 47,
     "metadata": {},
     "output_type": "execute_result"
    }
   ],
   "source": [
    "df_maiz = pd.read_csv(\"raw_data\\scpr\\maiz_scpr.csv\", encoding= \"Latin-1\")\n",
    "df_maiz.head()"
   ]
  },
  {
   "cell_type": "code",
   "execution_count": 48,
   "metadata": {},
   "outputs": [
    {
     "data": {
      "text/html": [
       "<div>\n",
       "<style scoped>\n",
       "    .dataframe tbody tr th:only-of-type {\n",
       "        vertical-align: middle;\n",
       "    }\n",
       "\n",
       "    .dataframe tbody tr th {\n",
       "        vertical-align: top;\n",
       "    }\n",
       "\n",
       "    .dataframe thead th {\n",
       "        text-align: right;\n",
       "    }\n",
       "</style>\n",
       "<table border=\"1\" class=\"dataframe\">\n",
       "  <thead>\n",
       "    <tr style=\"text-align: right;\">\n",
       "      <th></th>\n",
       "      <th>cultivo_nombre</th>\n",
       "      <th>anio</th>\n",
       "      <th>campania</th>\n",
       "      <th>provincia_nombre</th>\n",
       "      <th>provincia_id</th>\n",
       "      <th>departamento_nombre</th>\n",
       "      <th>departamento_id</th>\n",
       "      <th>superficie_sembrada_ha</th>\n",
       "      <th>superficie_cosechada_ha</th>\n",
       "      <th>produccion_tm</th>\n",
       "      <th>rendimiento_kgxha</th>\n",
       "    </tr>\n",
       "  </thead>\n",
       "  <tbody>\n",
       "    <tr>\n",
       "      <th>0</th>\n",
       "      <td>maní</td>\n",
       "      <td>1927</td>\n",
       "      <td>1927/1928</td>\n",
       "      <td>Chaco</td>\n",
       "      <td>22</td>\n",
       "      <td>Campo del Cielo</td>\n",
       "      <td>22105.0</td>\n",
       "      <td>4213.0</td>\n",
       "      <td>4213.0</td>\n",
       "      <td>3160.0</td>\n",
       "      <td>750.0</td>\n",
       "    </tr>\n",
       "    <tr>\n",
       "      <th>1</th>\n",
       "      <td>maní</td>\n",
       "      <td>1927</td>\n",
       "      <td>1927/1928</td>\n",
       "      <td>Chaco</td>\n",
       "      <td>22</td>\n",
       "      <td>Napalpí</td>\n",
       "      <td>22049.0</td>\n",
       "      <td>465.0</td>\n",
       "      <td>465.0</td>\n",
       "      <td>348.0</td>\n",
       "      <td>750.0</td>\n",
       "    </tr>\n",
       "    <tr>\n",
       "      <th>2</th>\n",
       "      <td>maní</td>\n",
       "      <td>1927</td>\n",
       "      <td>1927/1928</td>\n",
       "      <td>Chaco</td>\n",
       "      <td>22</td>\n",
       "      <td>Resistencia</td>\n",
       "      <td>22140.0</td>\n",
       "      <td>192.0</td>\n",
       "      <td>192.0</td>\n",
       "      <td>144.0</td>\n",
       "      <td>750.0</td>\n",
       "    </tr>\n",
       "    <tr>\n",
       "      <th>3</th>\n",
       "      <td>maní</td>\n",
       "      <td>1927</td>\n",
       "      <td>1927/1928</td>\n",
       "      <td>Chaco</td>\n",
       "      <td>22</td>\n",
       "      <td>Coronel Martínez de Hoz</td>\n",
       "      <td>22084.0</td>\n",
       "      <td>71.0</td>\n",
       "      <td>71.0</td>\n",
       "      <td>53.0</td>\n",
       "      <td>750.0</td>\n",
       "    </tr>\n",
       "    <tr>\n",
       "      <th>4</th>\n",
       "      <td>maní</td>\n",
       "      <td>1927</td>\n",
       "      <td>1927/1928</td>\n",
       "      <td>Chaco</td>\n",
       "      <td>22</td>\n",
       "      <td>Bermejo</td>\n",
       "      <td>22014.0</td>\n",
       "      <td>36.0</td>\n",
       "      <td>36.0</td>\n",
       "      <td>27.0</td>\n",
       "      <td>750.0</td>\n",
       "    </tr>\n",
       "  </tbody>\n",
       "</table>\n",
       "</div>"
      ],
      "text/plain": [
       "  cultivo_nombre  anio   campania provincia_nombre  provincia_id  \\\n",
       "0           maní  1927  1927/1928            Chaco            22   \n",
       "1           maní  1927  1927/1928            Chaco            22   \n",
       "2           maní  1927  1927/1928            Chaco            22   \n",
       "3           maní  1927  1927/1928            Chaco            22   \n",
       "4           maní  1927  1927/1928            Chaco            22   \n",
       "\n",
       "       departamento_nombre  departamento_id  superficie_sembrada_ha  \\\n",
       "0          Campo del Cielo          22105.0                  4213.0   \n",
       "1                  Napalpí          22049.0                   465.0   \n",
       "2              Resistencia          22140.0                   192.0   \n",
       "3  Coronel Martínez de Hoz          22084.0                    71.0   \n",
       "4                  Bermejo          22014.0                    36.0   \n",
       "\n",
       "   superficie_cosechada_ha  produccion_tm  rendimiento_kgxha  \n",
       "0                   4213.0         3160.0              750.0  \n",
       "1                    465.0          348.0              750.0  \n",
       "2                    192.0          144.0              750.0  \n",
       "3                     71.0           53.0              750.0  \n",
       "4                     36.0           27.0              750.0  "
      ]
     },
     "execution_count": 48,
     "metadata": {},
     "output_type": "execute_result"
    }
   ],
   "source": [
    "df_mani = pd.read_csv(\"raw_data\\scpr\\mani_scpr.csv\", encoding= \"Latin-1\")\n",
    "df_mani.head()"
   ]
  },
  {
   "cell_type": "code",
   "execution_count": 49,
   "metadata": {},
   "outputs": [
    {
     "data": {
      "text/html": [
       "<div>\n",
       "<style scoped>\n",
       "    .dataframe tbody tr th:only-of-type {\n",
       "        vertical-align: middle;\n",
       "    }\n",
       "\n",
       "    .dataframe tbody tr th {\n",
       "        vertical-align: top;\n",
       "    }\n",
       "\n",
       "    .dataframe thead th {\n",
       "        text-align: right;\n",
       "    }\n",
       "</style>\n",
       "<table border=\"1\" class=\"dataframe\">\n",
       "  <thead>\n",
       "    <tr style=\"text-align: right;\">\n",
       "      <th></th>\n",
       "      <th>cultivo_nombre</th>\n",
       "      <th>anio</th>\n",
       "      <th>campania</th>\n",
       "      <th>provincia_nombre</th>\n",
       "      <th>provincia_id</th>\n",
       "      <th>departamento_nombre</th>\n",
       "      <th>departamento_id</th>\n",
       "      <th>superficie_sembrada_ha</th>\n",
       "      <th>superficie_cosechada_ha</th>\n",
       "      <th>produccion_tm</th>\n",
       "      <th>rendimiento_kgxha</th>\n",
       "    </tr>\n",
       "  </thead>\n",
       "  <tbody>\n",
       "    <tr>\n",
       "      <th>0</th>\n",
       "      <td>soja</td>\n",
       "      <td>1969</td>\n",
       "      <td>1969/70</td>\n",
       "      <td>Buenos Aires</td>\n",
       "      <td>6</td>\n",
       "      <td>Arrecifes</td>\n",
       "      <td>6077.0</td>\n",
       "      <td>150</td>\n",
       "      <td>150</td>\n",
       "      <td>191</td>\n",
       "      <td>1273</td>\n",
       "    </tr>\n",
       "    <tr>\n",
       "      <th>1</th>\n",
       "      <td>soja</td>\n",
       "      <td>1969</td>\n",
       "      <td>1969/70</td>\n",
       "      <td>Buenos Aires</td>\n",
       "      <td>6</td>\n",
       "      <td>Capitán Sarmiento</td>\n",
       "      <td>6140.0</td>\n",
       "      <td>50</td>\n",
       "      <td>50</td>\n",
       "      <td>65</td>\n",
       "      <td>1300</td>\n",
       "    </tr>\n",
       "    <tr>\n",
       "      <th>2</th>\n",
       "      <td>soja</td>\n",
       "      <td>1969</td>\n",
       "      <td>1969/70</td>\n",
       "      <td>Buenos Aires</td>\n",
       "      <td>6</td>\n",
       "      <td>Colón</td>\n",
       "      <td>6175.0</td>\n",
       "      <td>120</td>\n",
       "      <td>120</td>\n",
       "      <td>144</td>\n",
       "      <td>1200</td>\n",
       "    </tr>\n",
       "    <tr>\n",
       "      <th>3</th>\n",
       "      <td>soja</td>\n",
       "      <td>1969</td>\n",
       "      <td>1969/70</td>\n",
       "      <td>Buenos Aires</td>\n",
       "      <td>6</td>\n",
       "      <td>Pergamino</td>\n",
       "      <td>6623.0</td>\n",
       "      <td>600</td>\n",
       "      <td>600</td>\n",
       "      <td>780</td>\n",
       "      <td>1300</td>\n",
       "    </tr>\n",
       "    <tr>\n",
       "      <th>4</th>\n",
       "      <td>soja</td>\n",
       "      <td>1969</td>\n",
       "      <td>1969/70</td>\n",
       "      <td>Buenos Aires</td>\n",
       "      <td>6</td>\n",
       "      <td>Rojas</td>\n",
       "      <td>6686.0</td>\n",
       "      <td>150</td>\n",
       "      <td>150</td>\n",
       "      <td>170</td>\n",
       "      <td>1133</td>\n",
       "    </tr>\n",
       "  </tbody>\n",
       "</table>\n",
       "</div>"
      ],
      "text/plain": [
       "  cultivo_nombre  anio campania provincia_nombre  provincia_id  \\\n",
       "0           soja  1969  1969/70     Buenos Aires             6   \n",
       "1           soja  1969  1969/70     Buenos Aires             6   \n",
       "2           soja  1969  1969/70     Buenos Aires             6   \n",
       "3           soja  1969  1969/70     Buenos Aires             6   \n",
       "4           soja  1969  1969/70     Buenos Aires             6   \n",
       "\n",
       "  departamento_nombre  departamento_id  superficie_sembrada_ha  \\\n",
       "0           Arrecifes           6077.0                     150   \n",
       "1   Capitán Sarmiento           6140.0                      50   \n",
       "2               Colón           6175.0                     120   \n",
       "3           Pergamino           6623.0                     600   \n",
       "4               Rojas           6686.0                     150   \n",
       "\n",
       "   superficie_cosechada_ha  produccion_tm  rendimiento_kgxha  \n",
       "0                      150            191               1273  \n",
       "1                       50             65               1300  \n",
       "2                      120            144               1200  \n",
       "3                      600            780               1300  \n",
       "4                      150            170               1133  "
      ]
     },
     "execution_count": 49,
     "metadata": {},
     "output_type": "execute_result"
    }
   ],
   "source": [
    "df_soja = pd.read_csv(\"raw_data\\scpr\\soja_scpr.csv\", encoding= \"Latin-1\")\n",
    "df_soja.head()"
   ]
  },
  {
   "cell_type": "markdown",
   "metadata": {},
   "source": [
    "Se eliminan las columnas que no vamos a utilizar"
   ]
  },
  {
   "cell_type": "code",
   "execution_count": 16,
   "metadata": {},
   "outputs": [],
   "source": [
    "df_avena = df_avena.drop(['campania', 'provincia_nombre', 'departamento_nombre', 'departamento_id'], axis=1)\n",
    "df_centeno = df_centeno.drop(['campania', 'provincia_nombre', 'departamento_nombre', 'departamento_id'], axis=1)\n",
    "df_girasol = df_girasol.drop(['campania', 'provincia_nombre', 'departamento_nombre', 'departamento_id'], axis=1)\n",
    "df_maiz = df_maiz.drop(['campania', 'provincia_nombre', 'departamento_nombre', 'departamento_id'], axis=1)\n",
    "df_mani = df_mani.drop(['campania', 'provincia_nombre', 'departamento_nombre', 'departamento_id'], axis=1)\n",
    "df_soja = df_soja.drop(['campania', 'provincia_nombre', 'departamento_nombre', 'departamento_id'], axis=1)\n"
   ]
  },
  {
   "cell_type": "markdown",
   "metadata": {},
   "source": [
    "Se filtran los registros de acuerdo al periodo correspondiente a nuestro analisis"
   ]
  },
  {
   "cell_type": "code",
   "execution_count": 24,
   "metadata": {},
   "outputs": [],
   "source": [
    "df_avena = df_avena[(df_avena['anio'] >= 1997) & (df_avena['anio'] <= 2017)]"
   ]
  },
  {
   "cell_type": "code",
   "execution_count": 25,
   "metadata": {},
   "outputs": [],
   "source": [
    "df_centeno = df_centeno[(df_centeno['anio'] >= 1997) & (df_centeno['anio'] <= 2017)]"
   ]
  },
  {
   "cell_type": "code",
   "execution_count": 26,
   "metadata": {},
   "outputs": [],
   "source": [
    "df_girasol = df_girasol[(df_girasol['anio'] >= 1997) & (df_girasol['anio'] <= 2017)]"
   ]
  },
  {
   "cell_type": "code",
   "execution_count": 27,
   "metadata": {},
   "outputs": [],
   "source": [
    "df_maiz = df_maiz[(df_maiz['anio'] >= 1997) & (df_maiz['anio'] <= 2017)]"
   ]
  },
  {
   "cell_type": "code",
   "execution_count": 28,
   "metadata": {},
   "outputs": [],
   "source": [
    "df_mani = df_mani[(df_mani['anio'] >= 1997) & (df_mani['anio'] <= 2017)]"
   ]
  },
  {
   "cell_type": "code",
   "execution_count": 29,
   "metadata": {},
   "outputs": [],
   "source": [
    "df_soja = df_soja[(df_soja['anio'] >= 1997) & (df_soja['anio'] <= 2017)]"
   ]
  },
  {
   "cell_type": "markdown",
   "metadata": {},
   "source": [
    "Se chequean valores nulos"
   ]
  },
  {
   "cell_type": "code",
   "execution_count": 30,
   "metadata": {},
   "outputs": [
    {
     "data": {
      "text/plain": [
       "cultivo_nombre               0\n",
       "anio                         0\n",
       "provincia_id                 0\n",
       "superficie_sembrada_ha       0\n",
       "superficie_cosechada_ha    660\n",
       "produccion_tm              660\n",
       "rendimiento_kgxha          660\n",
       "dtype: int64"
      ]
     },
     "execution_count": 30,
     "metadata": {},
     "output_type": "execute_result"
    }
   ],
   "source": [
    "df_avena.isnull().sum()"
   ]
  },
  {
   "cell_type": "code",
   "execution_count": 31,
   "metadata": {},
   "outputs": [
    {
     "data": {
      "text/plain": [
       "cultivo_nombre               0\n",
       "anio                         0\n",
       "provincia_id                 0\n",
       "superficie_sembrada_ha       0\n",
       "superficie_cosechada_ha    248\n",
       "produccion_tn              249\n",
       "rendimiento_kgxha          249\n",
       "dtype: int64"
      ]
     },
     "execution_count": 31,
     "metadata": {},
     "output_type": "execute_result"
    }
   ],
   "source": [
    "df_centeno.isnull().sum()"
   ]
  },
  {
   "cell_type": "code",
   "execution_count": 32,
   "metadata": {},
   "outputs": [
    {
     "data": {
      "text/plain": [
       "cultivo_nombre             0\n",
       "anio                       0\n",
       "provincia_id               0\n",
       "superficie_sembrada_ha     0\n",
       "superficie_cosechada_ha    0\n",
       "produccion_tm              0\n",
       "rendimiento_kgxha          0\n",
       "dtype: int64"
      ]
     },
     "execution_count": 32,
     "metadata": {},
     "output_type": "execute_result"
    }
   ],
   "source": [
    "df_girasol.isnull().sum()"
   ]
  },
  {
   "cell_type": "code",
   "execution_count": 33,
   "metadata": {},
   "outputs": [
    {
     "data": {
      "text/plain": [
       "cultivo_nombre             0\n",
       "anio                       0\n",
       "provincia_id               0\n",
       "superficie_sembrada_ha     0\n",
       "superficie_cosechada_ha    1\n",
       "produccion_tm              2\n",
       "rendimiento_kgxha          2\n",
       "dtype: int64"
      ]
     },
     "execution_count": 33,
     "metadata": {},
     "output_type": "execute_result"
    }
   ],
   "source": [
    "df_maiz.isnull().sum()"
   ]
  },
  {
   "cell_type": "code",
   "execution_count": 34,
   "metadata": {},
   "outputs": [
    {
     "data": {
      "text/plain": [
       "cultivo_nombre             0\n",
       "anio                       0\n",
       "provincia_id               0\n",
       "superficie_sembrada_ha     0\n",
       "superficie_cosechada_ha    0\n",
       "produccion_tm              0\n",
       "rendimiento_kgxha          0\n",
       "dtype: int64"
      ]
     },
     "execution_count": 34,
     "metadata": {},
     "output_type": "execute_result"
    }
   ],
   "source": [
    "df_mani.isnull().sum()"
   ]
  },
  {
   "cell_type": "code",
   "execution_count": 35,
   "metadata": {},
   "outputs": [
    {
     "data": {
      "text/plain": [
       "cultivo_nombre             0\n",
       "anio                       0\n",
       "provincia_id               0\n",
       "superficie_sembrada_ha     0\n",
       "superficie_cosechada_ha    0\n",
       "produccion_tm              0\n",
       "rendimiento_kgxha          0\n",
       "dtype: int64"
      ]
     },
     "execution_count": 35,
     "metadata": {},
     "output_type": "execute_result"
    }
   ],
   "source": [
    "df_soja.isnull().sum()"
   ]
  },
  {
   "cell_type": "markdown",
   "metadata": {},
   "source": [
    "Se identifica que en algunas tablas los casos que registraron siembra pero no cosecha se representan con 0 y en otras con null.  Con el fin de evitar inconsistencias y unificar nuestro conjunto de datos usaremos el valor ‘0’ para la situación mencionada en todas las tablas, reemplazando ‘null’ por ‘0’ en los casos que sea necesario."
   ]
  },
  {
   "cell_type": "code",
   "execution_count": 36,
   "metadata": {},
   "outputs": [],
   "source": [
    "df_avena = df_avena.fillna(0)\n",
    "df_centeno = df_centeno.fillna(0)\n",
    "df_girasol = df_girasol.fillna(0)\n",
    "df_maiz = df_maiz.fillna(0)\n",
    "df_mani = df_mani.fillna(0)\n",
    "df_soja = df_soja.fillna(0)"
   ]
  },
  {
   "cell_type": "markdown",
   "metadata": {},
   "source": [
    "Con los dataframes procesados y todos con la misma estructura, se procede a concatenarlos."
   ]
  },
  {
   "cell_type": "code",
   "execution_count": 37,
   "metadata": {},
   "outputs": [],
   "source": [
    "df_cultivos = pd.concat([df_avena, df_centeno, df_girasol, df_maiz, df_mani, df_soja], ignore_index=True)"
   ]
  },
  {
   "cell_type": "markdown",
   "metadata": {},
   "source": [
    "Renombramos las columnas ‘cultivo_nombre’ a ‘producto’ y ‘anio’ a ‘año’ para tener consistencia entre todas nuestras tablas."
   ]
  },
  {
   "cell_type": "code",
   "execution_count": 41,
   "metadata": {},
   "outputs": [],
   "source": [
    "df_cultivos.rename(columns={'cultivo_nombre' : 'producto', 'anio' : 'año'}, inplace=True)"
   ]
  },
  {
   "cell_type": "markdown",
   "metadata": {},
   "source": [
    "Guardamos el dataframe procesado como archivo CSV en la carpeta processed_data"
   ]
  },
  {
   "cell_type": "code",
   "execution_count": 43,
   "metadata": {},
   "outputs": [],
   "source": [
    "df_cultivos.to_csv(\"processed_data\\scpr.csv\", index=False)"
   ]
  }
 ],
 "metadata": {
  "kernelspec": {
   "display_name": "Python 3",
   "language": "python",
   "name": "python3"
  },
  "language_info": {
   "codemirror_mode": {
    "name": "ipython",
    "version": 3
   },
   "file_extension": ".py",
   "mimetype": "text/x-python",
   "name": "python",
   "nbconvert_exporter": "python",
   "pygments_lexer": "ipython3",
   "version": "3.11.9"
  }
 },
 "nbformat": 4,
 "nbformat_minor": 2
}
